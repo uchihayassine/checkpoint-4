{
 "cells": [
  {
   "cell_type": "code",
   "execution_count": 11,
   "id": "226f09a6",
   "metadata": {},
   "outputs": [
    {
     "name": "stdout",
     "output_type": "stream",
     "text": [
      "(1, 2, 3)\n"
     ]
    }
   ],
   "source": [
    "#EX1:\n",
    "class point3D(object):\n",
    "    def __init__(self, x, y, z):\n",
    "        self.x = x\n",
    "        self.y = y\n",
    "        self.z = z\n",
    "    def __repr__(self):\n",
    "        return \"(%d, %d, %d)\" % (self.x, self.y, self.z)\n",
    "my_point = point3D(1,2,3)\n",
    "print (my_point)"
   ]
  },
  {
   "cell_type": "code",
   "execution_count": 37,
   "id": "ebf44c13",
   "metadata": {},
   "outputs": [
    {
     "name": "stdout",
     "output_type": "stream",
     "text": [
      "the rectangle area is : 12\n"
     ]
    }
   ],
   "source": [
    "#EX2:\n",
    "class Rectangle():\n",
    "    def __init__(self, l, w):\n",
    "        self.length = l\n",
    "        self.width  = w\n",
    "\n",
    "    def rectangle_area(self):\n",
    "        return self.length*self.width\n",
    "    \n",
    "    def rectangle(self):\n",
    "        return 2 * (self.lenght + self.widht)\n",
    "\n",
    "newRectangle = Rectangle(4 , 3)\n",
    "print(\"the rectangle area is :\" ,newRectangle.rectangle_area())"
   ]
  },
  {
   "cell_type": "code",
   "execution_count": 40,
   "id": "8059dcf5",
   "metadata": {},
   "outputs": [
    {
     "name": "stdout",
     "output_type": "stream",
     "text": [
      "12.56\n",
      "12.56\n"
     ]
    }
   ],
   "source": [
    "#EX3:\n",
    "class Circle():\n",
    "    def __init__(self, r):\n",
    "        self.radius = r\n",
    "\n",
    "    def area(self):\n",
    "        return self.radius**2*3.14\n",
    "    \n",
    "    def perimeter(self):\n",
    "        return 2*self.radius*3.14\n",
    "\n",
    "NewCircle = Circle(2)\n",
    "print(NewCircle.area())\n",
    "print(NewCircle.perimeter())"
   ]
  },
  {
   "cell_type": "code",
   "execution_count": null,
   "id": "b7ddce8b",
   "metadata": {},
   "outputs": [
    {
     "name": "stdout",
     "output_type": "stream",
     "text": [
      "The account is created\n"
     ]
    }
   ],
   "source": [
    "#EX4:\n",
    "class Bank:\n",
    "    def __init__(self):\n",
    "        self.balance = 0\n",
    "        print (\"The account is created\")\n",
    "        \n",
    "    def deposit(self):\n",
    "        amount = float(input(\"Enter the amount to be deposit: \"))\n",
    "        self.balance = self.balance + amount\n",
    "        print (\"Deposit is successful and the balance in the account is %f\" % self.balance)\n",
    "    \n",
    "    def withdraw(self):\n",
    "        amount = float(input(\"Enter the amount to withdraw: \"))\n",
    "        if (self.balance >= amount):\n",
    "            self.balance = self.balance - amount\n",
    "            print (\"The withdraw is successfull and balance is %f\" % self.balance)\n",
    "        else:\n",
    "            print ('Insuficient Balance')\n",
    "    \n",
    "    def enquiry(self):\n",
    "        print (\"Balance in the acount is %f\" % self.balance)\n",
    "        \n",
    "\n",
    "acc = Bank()\n",
    "acc.deposit()\n",
    "acc.withdraw()\n",
    "acc.enquiry()"
   ]
  }
 ],
 "metadata": {
  "kernelspec": {
   "display_name": "Python 3",
   "language": "python",
   "name": "python3"
  },
  "language_info": {
   "codemirror_mode": {
    "name": "ipython",
    "version": 3
   },
   "file_extension": ".py",
   "mimetype": "text/x-python",
   "name": "python",
   "nbconvert_exporter": "python",
   "pygments_lexer": "ipython3",
   "version": "3.8.8"
  }
 },
 "nbformat": 4,
 "nbformat_minor": 5
}
